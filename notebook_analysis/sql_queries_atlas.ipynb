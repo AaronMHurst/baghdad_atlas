{
 "cells": [
  {
   "cell_type": "markdown",
   "metadata": {
    "nbpresent": {
     "id": "26e2bc33-7272-45e1-92ec-1f024b6e933d"
    },
    "slideshow": {
     "slide_type": "slide"
    }
   },
   "source": [
    "# Notebook for interacting with the $(n,n'\\gamma)$ $\\textit{\"Baghdad Atlas\"}$\n",
    "\n",
    "For more information please refer to the reference articles [1978De41, 2021Hu05].\n",
    "\n",
    "Aaron Hurst <amhurst@berkeley.edu>"
   ]
  },
  {
   "cell_type": "code",
   "execution_count": null,
   "metadata": {
    "nbpresent": {
     "id": "0702827d-58d6-4cb2-a6dd-dbb3150c2ee8"
    },
    "slideshow": {
     "slide_type": "slide"
    }
   },
   "outputs": [],
   "source": [
    "import sqlite3"
   ]
  },
  {
   "cell_type": "code",
   "execution_count": null,
   "metadata": {
    "nbpresent": {
     "id": "97722dcd-44de-4270-b695-18ee1e21b9ad"
    },
    "slideshow": {
     "slide_type": "slide"
    }
   },
   "outputs": [],
   "source": [
    "#Determine Python version\n",
    "import sys\n",
    "db = None\n",
    "major_version = sys.version_info[0]\n",
    "minor_version = sys.version_info[1]\n",
    "micro_version = sys.version_info[2]\n",
    "if major_version == 2: db = str('atlas_baghdad_py2.db')\n",
    "elif major_version == 3: db = str('atlas_baghdad_py3.db')\n",
    "print(\"Running Python {0}.{1}.{2}\".format(major_version,minor_version,micro_version))"
   ]
  },
  {
   "cell_type": "code",
   "execution_count": null,
   "metadata": {
    "nbpresent": {
     "id": "38673ccb-2409-41d8-b654-afa283b03de8"
    },
    "slideshow": {
     "slide_type": "slide"
    }
   },
   "outputs": [],
   "source": [
    "# Simple query: extract all information from 'sample' table for elements with Z < 15\n",
    "conn = sqlite3.connect(db)\n",
    "curs = conn.cursor()\n",
    "sql_cmd = \"SELECT * FROM sample WHERE Z < 30;\"\n",
    "curs.execute(sql_cmd)\n",
    "db_info = curs.fetchall()\n",
    "for entry in db_info:\n",
    "    print(entry)\n",
    "conn.commit()\n",
    "conn.close()"
   ]
  },
  {
   "cell_type": "code",
   "execution_count": null,
   "metadata": {
    "nbpresent": {
     "id": "7b6fb142-c9db-43d7-ab22-04e5e9565b93"
    },
    "slideshow": {
     "slide_type": "slide"
    }
   },
   "outputs": [],
   "source": [
    "# Populate a list with names of enriched isotopes; count number of enriched isotopes\n",
    "conn = sqlite3.connect(db)\n",
    "curs = conn.cursor()\n",
    "sql_cmd = \"SELECT element FROM sample \\\n",
    "    WHERE A != 0;\"\n",
    "curs.execute(sql_cmd)\n",
    "db_info = curs.fetchall()\n",
    "conn.close()\n",
    "\n",
    "num_elements = 0\n",
    "for entry in db_info: num_elements += 1\n",
    "print(db_info)\n",
    "print(\"Number of enriched isotopes = {0}\".format(int(num_elements)))"
   ]
  },
  {
   "cell_type": "code",
   "execution_count": null,
   "metadata": {
    "nbpresent": {
     "id": "5093bbeb-3c0e-4eda-8257-069e5f3e6805"
    },
    "slideshow": {
     "slide_type": "slide"
    }
   },
   "outputs": [],
   "source": [
    "# Retrieve gamma-ray energy and intensity data for Fe (Z=26) and output query to file\n",
    "\n",
    "Z = 28 #Define atomic number for query\n",
    "element = str('Nickel') #Define a name for the file\n",
    "\n",
    "conn = sqlite3.connect(db)\n",
    "curs = conn.cursor()\n",
    "\n",
    "sql_cmd = \"SELECT energy_gamma, d_energy_gamma, intensity_gamma, d_intensity_gamma FROM nucleus WHERE nuc_Z = {0};\"\\\n",
    "    .format(int(Z))\n",
    "curs.execute(sql_cmd)\n",
    "db_info = curs.fetchall()\n",
    "\n",
    "width = 8\n",
    "with open('data_{0}.dat'.format(element), mode='wt') as f:\n",
    "    for i,entry in enumerate(db_info):\n",
    "        energy, d_energy = entry[0], entry[1]\n",
    "        intensity, d_intensity = entry[2], entry[3] \n",
    "        f.write(\"{0: <{width}}\\t{1: <{width}}\\t{2: <{width}}\\t{3: <{width}}\\n\"\n",
    "                .format(energy, d_energy, intensity, d_intensity, width=width))\n",
    "        if i<20: print(entry)\n",
    "    f.close()\n",
    "                    \n",
    "conn.commit()\n",
    "conn.close()"
   ]
  },
  {
   "cell_type": "code",
   "execution_count": null,
   "metadata": {
    "nbpresent": {
     "id": "a6fee59f-30cc-4d93-9084-dae7f6b17201"
    },
    "slideshow": {
     "slide_type": "slide"
    }
   },
   "outputs": [],
   "source": [
    "%matplotlib notebook\n",
    "import matplotlib.pyplot as plt\n",
    "import seaborn as sns\n",
    "#sns.set_context(\"poster\")\n",
    "sns.set(\"talk\")"
   ]
  },
  {
   "cell_type": "code",
   "execution_count": null,
   "metadata": {
    "nbpresent": {
     "id": "85331da2-3c36-4348-9e91-31216b82e04b"
    },
    "slideshow": {
     "slide_type": "slide"
    }
   },
   "outputs": [],
   "source": [
    "from numpy import loadtxt, array"
   ]
  },
  {
   "cell_type": "code",
   "execution_count": null,
   "metadata": {
    "nbpresent": {
     "id": "e6675328-9027-45ed-8077-4445166b8b8d"
    },
    "slideshow": {
     "slide_type": "-"
    }
   },
   "outputs": [],
   "source": [
    "%matplotlib notebook\n",
    "#Retrieve energy and intensity data from SQL database and calculate cross sections.\n",
    "#Display cross-section data as bar plot and save to file.\n",
    "#Adjust Z, Chem_symb, and A below to change nucleus.\n",
    "\n",
    "Z = int(75) # Define atomic number\n",
    "Chem_symb = str('Re') # Define corresponding chemical symbol, e.g. 'W' for natural W; '186W' for 186-enriched W\n",
    "A = int(0) # A=0 for natural sample, otherwise use mass number of enriched isotope\n",
    "\n",
    "enriched = None\n",
    "if A == 0: enriched = str('N')\n",
    "else: enriched = str('E')\n",
    "\n",
    "conn = sqlite3.connect(db)\n",
    "curs = conn.cursor()\n",
    "sql_cmd = \"SELECT energy_gamma, ((nucleus.intensity_gamma/100.0) * sample.N * (143.0/100.0)) \\\n",
    "    AS cross_section FROM nucleus, sample \\\n",
    "    WHERE nuc_Z = {0} \\\n",
    "    AND nucleus.nuc_Z = sample.Z \\\n",
    "    AND nucleus.sample = '{1}' AND nucleus.nuc_symb = '{2}' \\\n",
    "    AND nucleus.energy_gamma <= 1000.0;\".format(Z,enriched,Chem_symb)\n",
    "# Just do an Ig (relative BR) plot instead\n",
    "#sql_cmd = \"SELECT energy_gamma, (nucleus.intensity_gamma/100.0) * sample.N \\\n",
    "#    AS intensity_gamma FROM nucleus, sample \\\n",
    "#    WHERE nuc_Z = {0} \\\n",
    "#    AND nucleus.nuc_Z = sample.Z \\\n",
    "#    AND nucleus.sample = '{1}' AND nucleus.nuc_symb = '{2}' \\\n",
    "#    AND nucleus.transition_type != 't' AND nucleus.residual = '35Cl' AND nucleus.residual_type = 'f'\\\n",
    "#    AND nucleus.energy_gamma <= 5000.0;\".format(Z,enriched,Chem_symb)\n",
    "curs.execute(sql_cmd)\n",
    "db_info = array(curs.fetchall())\n",
    "conn.close()\n",
    "\n",
    "f, ax = plt.subplots(figsize=(9,6))\n",
    "#ax.bar(db_info[:,0],db_info[:,1],label=r\"$\\sigma_{\\gamma}$(%s)\"%str(Chem_symb),color='black',linewidth=3,\n",
    "ax.bar(db_info[:,0],db_info[:,1],label=r\"$I_{\\gamma}$(%s)\"%str(Chem_symb),color='black',linewidth=3,\n",
    "      edgecolor='black')\n",
    "ax.legend(loc=1)\n",
    "ax.set_yscale('log')\n",
    "ax.set_xlabel(r'$E_{\\gamma}$ [keV]')\n",
    "#ax.set_ylabel(r'$\\sigma_{\\gamma}$ [mb]')\n",
    "ax.set_ylabel(r'$I_{\\gamma}$')\n",
    "#ax.xaxis.set_ticks(range(0,2001,500))\n",
    "f.suptitle(r\"{0}$(n,n'\\gamma)$\".format(Chem_symb))\n",
    "\n",
    "plt.show()\n",
    "f.savefig(\"{0}_cs_query.pdf\".format(Chem_symb),dpi=f.dpi)\n",
    "f.savefig(\"{0}_cs_query.png\".format(Chem_symb),dpi=f.dpi)"
   ]
  },
  {
   "cell_type": "code",
   "execution_count": null,
   "metadata": {
    "nbpresent": {
     "id": "20f89188-8f92-4166-9e8f-ce9c5d9ed66f"
    },
    "slideshow": {
     "slide_type": "slide"
    }
   },
   "outputs": [],
   "source": [
    "from math import sqrt\n",
    "class CrossSection(object):\n",
    "    FeCS = 143.0 \n",
    "    FeRatio = 1.430 \n",
    "    d_FeCS = 29.0 \n",
    "    d_FeRatio = 0.290 \n",
    "    #FeCS = 586.0 # FRM-II\n",
    "    #FeRatio = 5.860 # FRM-II\n",
    "    #d_FeCS = 41.0 # FRM-II\n",
    "    #d_FeRatio = 0.410\n",
    "    RI = 100.0\n",
    "    def __init__(self,N,dN):\n",
    "        self.N, self.dN = N, dN\n",
    "    def cross_section(self,Ig,dIg):\n",
    "        return ((Ig/CrossSection.RI)*self.N*CrossSection.FeRatio)\n",
    "    def d_cross_section(self,cs,Ig,dIg):\n",
    "        return (cs*sqrt((dIg/Ig)**2+(self.dN/self.N)**2+(CrossSection.d_FeRatio/CrossSection.FeRatio)**2))\n",
    "    def d_cross_section_reduced(self,cs):\n",
    "        return (cs*sqrt((dN/N)**2+(CrossSection.d_FeRatio/CrossSection.FeRatio)**2))"
   ]
  },
  {
   "cell_type": "code",
   "execution_count": null,
   "metadata": {
    "nbpresent": {
     "id": "4ed81dad-40e5-4a54-9d38-359fc66ee8c5"
    },
    "scrolled": false,
    "slideshow": {
     "slide_type": "slide"
    }
   },
   "outputs": [],
   "source": [
    "%matplotlib notebook\n",
    "#Extract energy and intensity information from SQL database and store in list.\n",
    "#Calculate cross sections from list data using above \"CrossSection\" class.\n",
    "#Write results to file and then plot data from file; save plot to file.\n",
    "#Adjust Z, Chem_symb, and A below to change nucleus.\n",
    "import re\n",
    "\n",
    "Z = int(75) # Define atomic number\n",
    "Chem_symb = str('Re') # Define corresponding chemical symbol, e.g. 'W' for natural W; '186W' for 186-enriched W\n",
    "A = int(0) # A=0 for natural sample, otherwise use mass number of enriched isotope\n",
    "\n",
    "enriched = None\n",
    "if A == 0: enriched = str('N')\n",
    "else: enriched = str('E')\n",
    "\n",
    "conn = sqlite3.connect(db)\n",
    "curs = conn.cursor()\n",
    "\n",
    "N, dN = None, None\n",
    "sql_cmd = \"SELECT sample.N, sample.dN from sample \\\n",
    "    WHERE sample.Z = {0} AND sample.A = {1};\".format(Z,A)\n",
    "curs.execute(sql_cmd)\n",
    "db_info = list(curs.fetchall())\n",
    "for NdN in db_info:\n",
    "    N, dN = NdN[0], NdN[1]\n",
    "    \n",
    "print(N,dN)\n",
    "CS = CrossSection(float(N),float(dN))\n",
    "\n",
    "sql_cmd = \"SELECT nucleus.energy_gamma, nucleus.d_energy_gamma, nucleus.intensity_gamma, nucleus.d_intensity_gamma, \\\n",
    "    nucleus.residual \\\n",
    "    from nucleus \\\n",
    "    WHERE nuc_Z = {0}\\\n",
    "    AND nucleus.sample = '{1}' AND nucleus.nuc_symb = '{2}'\\\n",
    "    AND nucleus.transition_type != 't' AND nucleus.residual_type = 'f'\\\n",
    "    AND nucleus.residual LIKE '%' || nucleus.nuc_symb || '%';\".format(Z,enriched,Chem_symb)\n",
    "# Specify condition on residual nucleus, e.g., 185Re: \"AND nucleus.residual = '185Re'\"\n",
    "curs.execute(sql_cmd)\n",
    "db_info = curs.fetchall()\n",
    "conn.close()\n",
    "\n",
    "#new_db_info = list()\n",
    "width = 10\n",
    "with open(\"{0}_cs_results.dat\".format(Chem_symb), mode='wt') as wf:\n",
    "    for row in db_info: \n",
    "        energy_gamma, d_energy_gamma = row[0], row[1]\n",
    "        intensity_gamma, d_intensity_gamma = float(row[2]), float(row[3])\n",
    "        cs, d_cs = None, None\n",
    "        try:\n",
    "            cs = CS.cross_section(intensity_gamma,d_intensity_gamma)\n",
    "            d_cs = CS.d_cross_section(cs,intensity_gamma,d_intensity_gamma)\n",
    "        except ZeroDivisionError:\n",
    "            d_cs = CS.d_cross_section_reduced(cs)\n",
    "        cs, d_cs = \"%.3f\"%float(cs), \"%.3f\"%float(d_cs)\n",
    "        #print(energy_gamma,d_energy_gamma,cs,d_cs)\n",
    "        wf.write(\"{0: <{width}}\\t{1: <{width}}\\t{2: <{width}}\\t{3: <{width}}\\n\"\n",
    "                 .format(energy_gamma, d_energy_gamma, cs, d_cs, width=width))\n",
    "        #new_db_info.append([float(energy_gamma),float(d_energy_gamma),float(cs),float(d_cs)])\n",
    "    wf.close()\n",
    "\n",
    "#xnew_db_info = array(new_db_info)\n",
    "#print(xnew_db_info)\n",
    "\n",
    "f, ax = plt.subplots(figsize=(9,6))\n",
    "\n",
    "data = loadtxt(\"{0}_cs_results.dat\".format(Chem_symb))\n",
    "energy_gamma, cs, d_cs = list(), list(), list()\n",
    "try:\n",
    "    energy_gamma = data[:,0]\n",
    "    cs = data[:,2]\n",
    "    d_cs = data[:,3]\n",
    "except IndexError:\n",
    "    energy_gamma = data[0]\n",
    "    cs = data[2]\n",
    "    d_cs = data[3]\n",
    "\n",
    "Chem_label = None\n",
    "if bool(re.match(\"[0-9]\",Chem_symb))==True:\n",
    "    isotope_mass = str(A)\n",
    "    isotope_label = str(re.findall(\"[A-Z]+[a-z]?\",Chem_symb)[0])\n",
    "    Chem_label = str(r'$^{%s}$%s'%(isotope_mass,isotope_label))\n",
    "else: Chem_label = Chem_symb\n",
    "\n",
    "ax.errorbar(energy_gamma, cs, yerr=d_cs, label=r\"$\\sigma_{\\gamma}$(%s)\"%str(Chem_label),color='blue', \\\n",
    "            marker='o',markersize=5,capsize=5,ecolor='blue',mec='blue',mew=2,elinewidth=2,linestyle='None')\n",
    "#ax.errorbar(energy_gamma, cs, yerr=d_cs, label=r\"$\\sigma_{\\gamma}$(%s) Baghdad Atlas\"%str(Chem_label),color='blue', \\\n",
    "#            marker='o',markersize=5,capsize=5,ecolor='blue',mec='blue',mew=2,elinewidth=2,linestyle='None')\n",
    "\n",
    "\n",
    "ax.legend(loc=1,frameon=True,shadow=True,fancybox=True)\n",
    "ax.set_yscale('log')\n",
    "ax.set_xlabel(r'$E_{\\gamma}$ [keV]')\n",
    "ax.set_ylabel(r'$\\sigma_{\\gamma}$ [mb]')\n",
    "f.suptitle(r\"{0}$(n,n'\\gamma)$\".format(Chem_label))\n",
    "\n",
    "plt.show()\n",
    "f.savefig(\"{0}_cs_dcs_query.pdf\".format(Chem_symb),dpi=f.dpi)\n",
    "f.savefig(\"{0}_cs_dcs_query.png\".format(Chem_symb),dpi=f.dpi,transparent=False)"
   ]
  },
  {
   "cell_type": "code",
   "execution_count": null,
   "metadata": {
    "nbpresent": {
     "id": "f8db7d7e-aa7c-409d-b509-f96952b95acd"
    },
    "slideshow": {
     "slide_type": "slide"
    }
   },
   "outputs": [],
   "source": [
    "%matplotlib notebook\n",
    "# Plot branching ratios (i.e. raw gamma-ray intensities) with error bars for tungsten data\n",
    "# Adjust Z, Chem_symb, and A below to change nucleus.\n",
    "\n",
    "Z = int(74)# Define atomic number\n",
    "Chem_symb = str('W') # Define corresponding chemical symbol, e.g. 'W' for natural W; '186W' for 186-enriched W\n",
    "A = int(0) # A=0 for natural sample, otherwise use mass number of enriched isotope\n",
    "\n",
    "enriched = None\n",
    "if A == 0: enriched = str('N')\n",
    "else: enriched = str('E')\n",
    "\n",
    "conn = sqlite3.connect(db)\n",
    "curs = conn.cursor()\n",
    "sql_cmd = \"SELECT energy_gamma, d_energy_gamma, intensity_gamma, d_intensity_gamma \\\n",
    "    AS cross_section FROM nucleus \\\n",
    "    WHERE nuc_Z = {0} \\\n",
    "    AND nucleus.sample = '{1}' AND nucleus.nuc_symb = '{2}';\".format(Z,enriched,Chem_symb)\n",
    "curs.execute(sql_cmd)\n",
    "db_info = array(curs.fetchall())\n",
    "conn.close()\n",
    "\n",
    "f, ax = plt.subplots(figsize=(9,6))\n",
    "\n",
    "ax.errorbar(db_info[:,0],db_info[:,2],yerr=db_info[:,3],label=r\"$I_{\\gamma}$(%s)\"%str(Chem_symb),color='gold', \\\n",
    "            marker='o',markersize=5,capsize=5,ecolor='blue',mew=2,elinewidth=2,linestyle='None')\n",
    "\n",
    "ax.legend(loc=1)\n",
    "ax.set_yscale('log')\n",
    "ax.set_xlabel(r'$E_{\\gamma}$ [keV]')\n",
    "ax.set_ylabel(r'$I_{\\gamma}$')\n",
    "f.suptitle(r\"{0}$(n,n'\\gamma)$\".format(Chem_symb))\n",
    "\n",
    "plt.show()\n",
    "f.savefig(\"{0}_Ig_query.pdf\".format(Chem_symb),dpi=f.dpi)\n",
    "f.savefig(\"{0}_Ig_query.png\".format(Chem_symb),dpi=f.dpi)"
   ]
  },
  {
   "cell_type": "markdown",
   "metadata": {
    "nbpresent": {
     "id": "e5195c50-2307-4b57-8f45-182887c14343"
    }
   },
   "source": [
    "# References\n",
    "\n",
    "[1978De41]: A.M. Demidov, L.I. Govor, Yu.K. Cherepantsev, M.R. Ahmed, S. Al-Najjar, M.A. Al-Amili, N. Al-Assafi, N. Rammo, \"Atlas of Gamma-Ray Spectra from the Inelastic Scattering of Reactor Fast Neutrons\", Nuclear Research Institute, Baghdad, Iraq (Moscow, Atomizdat 1978).\n",
    "\n",
    "[2021Hu05]: A.M. Hurst, L.A. Bernstein, T. Kawano, A.M. Lewis, K. Song, \"The Baghdad Atlas: A relational database of inelastic neutron-scattering ($n,n'\\gamma$) data\", Nucl. Instrum. Methods Phys. Res. Sect. A 995, 165095 (2021)."
   ]
  },
  {
   "cell_type": "code",
   "execution_count": null,
   "metadata": {},
   "outputs": [],
   "source": []
  }
 ],
 "metadata": {
  "anaconda-cloud": {},
  "kernelspec": {
   "display_name": "Python 3",
   "language": "python",
   "name": "python3"
  },
  "language_info": {
   "codemirror_mode": {
    "name": "ipython",
    "version": 3
   },
   "file_extension": ".py",
   "mimetype": "text/x-python",
   "name": "python",
   "nbconvert_exporter": "python",
   "pygments_lexer": "ipython3",
   "version": "3.7.3"
  },
  "nbpresent": {
   "slides": {
    "0084eea1-ac4b-4ecb-ae43-c90e12ce7dc6": {
     "id": "0084eea1-ac4b-4ecb-ae43-c90e12ce7dc6",
     "prev": "fab20268-14c0-45f7-8893-fc1ed1c54c4e",
     "regions": {
      "8391e683-ebd9-40b0-a31b-f19df62d51e4": {
       "attrs": {
        "height": 0.8,
        "width": 0.8,
        "x": 0.1,
        "y": 0.1
       },
       "content": {
        "cell": "e5195c50-2307-4b57-8f45-182887c14343",
        "part": "whole"
       },
       "id": "8391e683-ebd9-40b0-a31b-f19df62d51e4"
      }
     }
    },
    "07d080e5-b7dc-49b0-b665-afbb91c11609": {
     "id": "07d080e5-b7dc-49b0-b665-afbb91c11609",
     "prev": "8149f169-3614-401f-bfc0-56d47f4b1031",
     "regions": {
      "3cd4e6ed-eb5b-4ca6-8a37-882c59b4b98c": {
       "attrs": {
        "height": 0.8,
        "width": 0.8,
        "x": 0.1,
        "y": 0.1
       },
       "content": {
        "cell": "20f89188-8f92-4166-9e8f-ce9c5d9ed66f",
        "part": "whole"
       },
       "id": "3cd4e6ed-eb5b-4ca6-8a37-882c59b4b98c"
      }
     }
    },
    "2373324f-69c8-40d5-8f1d-eafeb1b9c1a0": {
     "id": "2373324f-69c8-40d5-8f1d-eafeb1b9c1a0",
     "prev": "4bdbbefc-da65-4927-afc2-2fc98bf26d7e",
     "regions": {
      "dac585ef-5a25-4620-b85b-037bd34bc407": {
       "attrs": {
        "height": 0.8,
        "width": 0.8,
        "x": 0.1,
        "y": 0.1
       },
       "content": {
        "cell": "7b6fb142-c9db-43d7-ab22-04e5e9565b93",
        "part": "whole"
       },
       "id": "dac585ef-5a25-4620-b85b-037bd34bc407"
      }
     }
    },
    "4bdbbefc-da65-4927-afc2-2fc98bf26d7e": {
     "id": "4bdbbefc-da65-4927-afc2-2fc98bf26d7e",
     "prev": "c271fcb1-a151-4cb5-9a8a-2f478e407dc5",
     "regions": {
      "d5e295af-f23f-40f6-b37c-790b8de48d88": {
       "attrs": {
        "height": 0.8,
        "width": 0.8,
        "x": 0.1,
        "y": 0.1
       },
       "content": {
        "cell": "38673ccb-2409-41d8-b654-afa283b03de8",
        "part": "whole"
       },
       "id": "d5e295af-f23f-40f6-b37c-790b8de48d88"
      }
     }
    },
    "63154d04-aabc-4ebc-bdfc-d7ebf53bb8d4": {
     "id": "63154d04-aabc-4ebc-bdfc-d7ebf53bb8d4",
     "prev": "2373324f-69c8-40d5-8f1d-eafeb1b9c1a0",
     "regions": {
      "0ebfc55a-11ed-4103-b6b2-56a7974fad7b": {
       "attrs": {
        "height": 0.8,
        "width": 0.8,
        "x": 0.1,
        "y": 0.1
       },
       "content": {
        "cell": "5093bbeb-3c0e-4eda-8257-069e5f3e6805",
        "part": "whole"
       },
       "id": "0ebfc55a-11ed-4103-b6b2-56a7974fad7b"
      }
     }
    },
    "8149f169-3614-401f-bfc0-56d47f4b1031": {
     "id": "8149f169-3614-401f-bfc0-56d47f4b1031",
     "prev": "ffba2252-19fe-4654-acdb-6cd6e33289a8",
     "regions": {
      "7e6d9b7a-61a4-4335-885c-c5199fbd21b3": {
       "attrs": {
        "height": 0.8,
        "width": 0.8,
        "x": 0.1,
        "y": 0.1
       },
       "content": {
        "cell": "e6675328-9027-45ed-8077-4445166b8b8d",
        "part": "whole"
       },
       "id": "7e6d9b7a-61a4-4335-885c-c5199fbd21b3"
      }
     }
    },
    "82dfbdef-a6a7-4a04-b3e5-c47096eef073": {
     "id": "82dfbdef-a6a7-4a04-b3e5-c47096eef073",
     "prev": "63154d04-aabc-4ebc-bdfc-d7ebf53bb8d4",
     "regions": {
      "20768301-95a1-4110-869f-163c5c3ad423": {
       "attrs": {
        "height": 0.8,
        "width": 0.8,
        "x": 0.1,
        "y": 0.1
       },
       "content": {
        "cell": "a6fee59f-30cc-4d93-9084-dae7f6b17201",
        "part": "whole"
       },
       "id": "20768301-95a1-4110-869f-163c5c3ad423"
      }
     }
    },
    "8bb3b67b-17ff-4945-88a3-9c3f169a428a": {
     "id": "8bb3b67b-17ff-4945-88a3-9c3f169a428a",
     "prev": "8f1fcf58-54cc-4f02-9f9f-a70053242a6a",
     "regions": {
      "b0e74869-442f-4e3e-971b-06548474f7a3": {
       "attrs": {
        "height": 0.8,
        "width": 0.8,
        "x": 0.1,
        "y": 0.1
       },
       "content": {
        "cell": "0702827d-58d6-4cb2-a6dd-dbb3150c2ee8",
        "part": "whole"
       },
       "id": "b0e74869-442f-4e3e-971b-06548474f7a3"
      }
     }
    },
    "8f1fcf58-54cc-4f02-9f9f-a70053242a6a": {
     "id": "8f1fcf58-54cc-4f02-9f9f-a70053242a6a",
     "layout": "manual",
     "prev": null,
     "regions": {
      "48ebdae4-af4e-4aaa-aa91-0a30244ebcb1": {
       "attrs": {
        "height": 0.8,
        "width": 0.8,
        "x": 0.1,
        "y": 1.7999999999999998
       },
       "content": {
        "cell": "26e2bc33-7272-45e1-92ec-1f024b6e933d",
        "part": "whole"
       },
       "id": "48ebdae4-af4e-4aaa-aa91-0a30244ebcb1"
      }
     }
    },
    "bf07d1b6-aa0b-494e-86d3-9d8b2d7d65cb": {
     "id": "bf07d1b6-aa0b-494e-86d3-9d8b2d7d65cb",
     "prev": "07d080e5-b7dc-49b0-b665-afbb91c11609",
     "regions": {
      "6e45cd1f-c811-4591-b6f1-645f2635bf40": {
       "attrs": {
        "height": 0.8,
        "width": 0.8,
        "x": 0.1,
        "y": 0.1
       },
       "content": {
        "cell": "4ed81dad-40e5-4a54-9d38-359fc66ee8c5",
        "part": "whole"
       },
       "id": "6e45cd1f-c811-4591-b6f1-645f2635bf40"
      }
     }
    },
    "c271fcb1-a151-4cb5-9a8a-2f478e407dc5": {
     "id": "c271fcb1-a151-4cb5-9a8a-2f478e407dc5",
     "prev": "8bb3b67b-17ff-4945-88a3-9c3f169a428a",
     "regions": {
      "e6c21726-555a-47d2-af45-df389d62afff": {
       "attrs": {
        "height": 0.8,
        "width": 0.8,
        "x": 0.1,
        "y": 0.1
       },
       "content": {
        "cell": "97722dcd-44de-4270-b695-18ee1e21b9ad",
        "part": "whole"
       },
       "id": "e6c21726-555a-47d2-af45-df389d62afff"
      }
     }
    },
    "fab20268-14c0-45f7-8893-fc1ed1c54c4e": {
     "id": "fab20268-14c0-45f7-8893-fc1ed1c54c4e",
     "prev": "bf07d1b6-aa0b-494e-86d3-9d8b2d7d65cb",
     "regions": {
      "d18ec145-a07f-4f0b-930e-e149eed00049": {
       "attrs": {
        "height": 0.8,
        "width": 0.8,
        "x": 0.1,
        "y": 0.1
       },
       "content": {
        "cell": "f8db7d7e-aa7c-409d-b509-f96952b95acd",
        "part": "whole"
       },
       "id": "d18ec145-a07f-4f0b-930e-e149eed00049"
      }
     }
    },
    "ffba2252-19fe-4654-acdb-6cd6e33289a8": {
     "id": "ffba2252-19fe-4654-acdb-6cd6e33289a8",
     "prev": "82dfbdef-a6a7-4a04-b3e5-c47096eef073",
     "regions": {
      "8f74c203-9d40-452c-b161-458b6343993a": {
       "attrs": {
        "height": 0.8,
        "width": 0.8,
        "x": 0.1,
        "y": 0.1
       },
       "content": {
        "cell": "85331da2-3c36-4348-9e91-31216b82e04b",
        "part": "whole"
       },
       "id": "8f74c203-9d40-452c-b161-458b6343993a"
      }
     }
    }
   },
   "themes": {}
  }
 },
 "nbformat": 4,
 "nbformat_minor": 1
}
